{
  "nbformat": 4,
  "nbformat_minor": 0,
  "metadata": {
    "colab": {
      "name": "Untitled0.ipynb",
      "provenance": [],
      "toc_visible": true,
      "authorship_tag": "ABX9TyNBarCeqccu9wSbi/e1dCZM",
      "include_colab_link": true
    },
    "kernelspec": {
      "name": "python3",
      "display_name": "Python 3"
    },
    "language_info": {
      "name": "python"
    },
    "accelerator": "GPU",
    "gpuClass": "standard"
  },
  "cells": [
    {
      "cell_type": "markdown",
      "metadata": {
        "id": "view-in-github",
        "colab_type": "text"
      },
      "source": [
        "<a href=\"https://colab.research.google.com/github/park128/python_lectures/blob/main/Untitled0.ipynb\" target=\"_parent\"><img src=\"https://colab.research.google.com/assets/colab-badge.svg\" alt=\"Open In Colab\"/></a>"
      ]
    },
    {
      "cell_type": "markdown",
      "source": [
        "## 제목1\n",
        "- 파이썬 입문 ㄴㄴ"
      ],
      "metadata": {
        "id": "6H-FxvGgj9Jl"
      }
    },
    {
      "cell_type": "markdown",
      "source": [
        "### 소제목 1\n",
        "- 여기는 소제목 임다"
      ],
      "metadata": {
        "id": "iFAIkJmPkOyO"
      }
    },
    {
      "cell_type": "code",
      "source": [
        "print(\"Hello Wdrld\")"
      ],
      "metadata": {
        "colab": {
          "base_uri": "https://localhost:8080/"
        },
        "id": "FzDc0j-clFSP",
        "outputId": "756ce67f-fbdd-47c2-ee77-3d5cb7a1642b"
      },
      "execution_count": 3,
      "outputs": [
        {
          "output_type": "stream",
          "name": "stdout",
          "text": [
            "Hello Wdrld\n"
          ]
        }
      ]
    },
    {
      "cell_type": "markdown",
      "source": [
        "## 제목 2\n",
        "\n"
      ],
      "metadata": {
        "id": "ekfTLdMEkg4_"
      }
    },
    {
      "cell_type": "markdown",
      "source": [
        "### 소제목 1\n",
        "- 라이브러리를 불러온다."
      ],
      "metadata": {
        "id": "lhYPbCZHkmmG"
      }
    },
    {
      "cell_type": "code",
      "source": [
        "print (1+1)"
      ],
      "metadata": {
        "colab": {
          "base_uri": "https://localhost:8080/"
        },
        "id": "5xYAOAxSlKH2",
        "outputId": "6ee26f04-a450-494f-f636-d724b027e6fc"
      },
      "execution_count": 2,
      "outputs": [
        {
          "output_type": "stream",
          "name": "stdout",
          "text": [
            "2\n"
          ]
        }
      ]
    }
  ]
}